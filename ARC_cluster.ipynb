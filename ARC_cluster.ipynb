{
  "nbformat": 4,
  "nbformat_minor": 0,
  "metadata": {
    "colab": {
      "provenance": [],
      "authorship_tag": "ABX9TyNxMrKmR9OqgH3PD/Js4fjn",
      "include_colab_link": true
    },
    "kernelspec": {
      "name": "python3",
      "display_name": "Python 3"
    },
    "language_info": {
      "name": "python"
    }
  },
  "cells": [
    {
      "cell_type": "markdown",
      "metadata": {
        "id": "view-in-github",
        "colab_type": "text"
      },
      "source": [
        "<a href=\"https://colab.research.google.com/github/Berrenslab/CELLOseq/blob/master/ARC_cluster.ipynb\" target=\"_parent\"><img src=\"https://colab.research.google.com/assets/colab-badge.svg\" alt=\"Open In Colab\"/></a>"
      ]
    },
    {
      "cell_type": "markdown",
      "source": [
        "**ARC cluster**"
      ],
      "metadata": {
        "id": "orQ2bvedjljM"
      }
    },
    {
      "cell_type": "code",
      "execution_count": null,
      "metadata": {
        "id": "dYx3AELzjcbB"
      },
      "outputs": [],
      "source": [
        "\n",
        "#MSDit for vpn connection\n",
        "\n",
        "#login\n",
        "ssh -X <USER-ID>@htc-login.arc.ox.ac.uk\n",
        "\n",
        "#balance\n",
        "mybalance\n",
        "#24012023\t89915911\n",
        "\n",
        "myquota\n",
        "\n",
        "# modules\n",
        "module spider \"case insensitive\"\n",
        "\n",
        "# data\n",
        "/data/paed-transponsons-long-reads/\n",
        "\n",
        "#interactive job\n",
        "srun -p interactive --pty /bin/bash\n",
        "# with GPU\n",
        "srun -p interactive --gres=gpu:1 --pty /bin/bash\n",
        "\n",
        "# GPU resources\n",
        "#SBATCH --gres=gpu:1\n",
        "\n",
        "# check queue\n",
        "squeue -u <USER-ID>\n",
        "squeue --clusters=all -u <USER-ID>\n",
        "\n",
        "scancel -u bioc1647 <job_ID>\n",
        "scontrol show job 12345\n",
        "\n",
        "#singulatiry\n",
        "singularity exec -B /data/ /data/paed-transponsons-long-reads/bioc1647/images/sarlacc.img R\n",
        "\n",
        "#singularity exec /data/paed-transponsons-long-reads/bioc1647/images/sarlacc.img \n",
        "SINGULARITYENV_APPEND_PATH=/data/paed-transposons-long-reads/bioc1647/images/:/data/paed-transposons-long-reads/bioc1647/projects singularity exec -B /data/ /data/paed-transposons-long-reads/bioc1647/images/sarlacc.img R --vanilla -e \"rmarkdown::render\"\n",
        "\n",
        "#copying files\n",
        "rsync -avz localfolder <USER-ID>@system.arc.ox.ac.uk:/path/to/remote/folder\n",
        "rsync -avz HOME <USER-ID>@gateway.arc.ox.ac.uk:/data/paed-transponsons-long-reads/\n",
        "\n",
        "# length\n",
        "Partitions\n",
        "Both clusters have the following time-based scheduling partitions available:\n",
        "\n",
        "short (default run time 1hr, maximum run time 12hrs)\n",
        "medium (default run time 12hrs, maximum run time 48hrs)\n",
        "long (default run time 24hrs, no run time limit)\n",
        "devel (maximum run time 10 minutes - for batch job testing only) \n",
        "interactive (default run time 1hr, maximum run time 4hrs, can oversubscribe, for pre/post-processing and building software)\n",
        "\n",
        "# memory\n",
        "Default amount memory per CPU is 8000MB.\n",
        "--mem-per-cpu=100G\n",
        "Maximum memory on ARC is 300G\n",
        "Maximum memory on HTC is 3000G using 1 node\n",
        "\n"
      ]
    },
    {
      "cell_type": "markdown",
      "source": [],
      "metadata": {
        "id": "Ofg2ybwqjj7B"
      }
    },
    {
      "cell_type": "markdown",
      "source": [],
      "metadata": {
        "id": "oh_rUguijkjL"
      }
    }
  ]
}